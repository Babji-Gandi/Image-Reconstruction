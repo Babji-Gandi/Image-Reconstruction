{
  "nbformat": 4,
  "nbformat_minor": 0,
  "metadata": {
    "accelerator": "GPU",
    "colab": {
      "name": "runtime_GPU.ipynb",
      "provenance": [],
      "collapsed_sections": [],
      "authorship_tag": "ABX9TyPxuC79sY+JECvs4X9CYV0m",
      "include_colab_link": true
    },
    "kernelspec": {
      "display_name": "Python 3",
      "name": "python3"
    }
  },
  "cells": [
    {
      "cell_type": "markdown",
      "metadata": {
        "id": "view-in-github",
        "colab_type": "text"
      },
      "source": [
        "<a href=\"https://colab.research.google.com/github/Babji-Gandi/Image-Reconstruction/blob/master/runtime_GPU.ipynb\" target=\"_parent\"><img src=\"https://colab.research.google.com/assets/colab-badge.svg\" alt=\"Open In Colab\"/></a>"
      ]
    },
    {
      "cell_type": "code",
      "metadata": {
        "id": "OSM46T4aiV1_"
      },
      "source": [
        "%matplotlib inline"
      ],
      "execution_count": 1,
      "outputs": []
    },
    {
      "cell_type": "code",
      "metadata": {
        "colab": {
          "base_uri": "https://localhost:8080/"
        },
        "id": "y04zyWGaHe4Y",
        "outputId": "bc4624c0-1c79-4b86-833c-c3a77c42a749"
      },
      "source": [
        "!git clone https://github.com/jyhmiinlin/pynufft.git"
      ],
      "execution_count": 2,
      "outputs": [
        {
          "output_type": "stream",
          "text": [
            "Cloning into 'pynufft'...\n",
            "remote: Enumerating objects: 26, done.\u001b[K\n",
            "remote: Counting objects: 100% (26/26), done.\u001b[K\n",
            "remote: Compressing objects: 100% (19/19), done.\u001b[K\n",
            "remote: Total 2914 (delta 11), reused 13 (delta 7), pack-reused 2888\n",
            "Receiving objects: 100% (2914/2914), 35.37 MiB | 18.85 MiB/s, done.\n",
            "Resolving deltas: 100% (1848/1848), done.\n"
          ],
          "name": "stdout"
        }
      ]
    },
    {
      "cell_type": "code",
      "metadata": {
        "colab": {
          "base_uri": "https://localhost:8080/"
        },
        "id": "Qo2fhvqpHvRw",
        "outputId": "73310776-f748-462f-8f2a-e28a41a0342f"
      },
      "source": [
        "\n",
        "!cp -r /content/drive/My\\Drive/thesis/gpu.py /content/pynufft/tests"
      ],
      "execution_count": 3,
      "outputs": [
        {
          "output_type": "stream",
          "text": [
            "cp: cannot stat '/content/drive/MyDrive/thesis/gpu.py': No such file or directory\n"
          ],
          "name": "stdout"
        }
      ]
    },
    {
      "cell_type": "code",
      "metadata": {
        "colab": {
          "base_uri": "https://localhost:8080/"
        },
        "id": "4hIzspSr4ZU1",
        "outputId": "24c1a2d0-1de1-48ac-b9a0-baac8cff0a20"
      },
      "source": [
        "!pip install pynufft\n"
      ],
      "execution_count": 4,
      "outputs": [
        {
          "output_type": "stream",
          "text": [
            "Collecting pynufft\n",
            "\u001b[?25l  Downloading https://files.pythonhosted.org/packages/09/c3/f5b65999f198f2fc28fe425620bbd8dea9618c599a7c17bd05e7975aa703/pynufft-2020.2.7-py3-none-any.whl (16.2MB)\n",
            "\u001b[K     |████████████████████████████████| 16.2MB 216kB/s \n",
            "\u001b[?25hRequirement already satisfied: numpy in /usr/local/lib/python3.6/dist-packages (from pynufft) (1.19.5)\n",
            "Requirement already satisfied: scipy in /usr/local/lib/python3.6/dist-packages (from pynufft) (1.4.1)\n",
            "Installing collected packages: pynufft\n",
            "Successfully installed pynufft-2020.2.7\n"
          ],
          "name": "stdout"
        }
      ]
    },
    {
      "cell_type": "code",
      "metadata": {
        "colab": {
          "base_uri": "https://localhost:8080/"
        },
        "id": "QyXvwQZ85MZM",
        "outputId": "981c6f29-7470-49b3-918d-0b605ae22807"
      },
      "source": [
        "!pip install reikna"
      ],
      "execution_count": 5,
      "outputs": [
        {
          "output_type": "stream",
          "text": [
            "Collecting reikna\n",
            "\u001b[?25l  Downloading https://files.pythonhosted.org/packages/fd/05/e8643dd1efc302291692286fc4fc8cefe277eb7de8a3d95a0e48e7dba2ef/reikna-0.7.5.tar.gz (189kB)\n",
            "\u001b[K     |████████████████████████████████| 194kB 12.4MB/s \n",
            "\u001b[?25hCollecting mako>=0.8.0\n",
            "\u001b[?25l  Downloading https://files.pythonhosted.org/packages/a6/37/0e706200d22172eb8fa17d68a7ae22dec7631a0a92266634fb518a88a5b2/Mako-1.1.3-py2.py3-none-any.whl (75kB)\n",
            "\u001b[K     |████████████████████████████████| 81kB 7.4MB/s \n",
            "\u001b[?25hRequirement already satisfied: numpy>=1.6.0 in /usr/local/lib/python3.6/dist-packages (from reikna) (1.19.5)\n",
            "Collecting funcsigs>=0.3\n",
            "  Downloading https://files.pythonhosted.org/packages/69/cb/f5be453359271714c01b9bd06126eaf2e368f1fddfff30818754b5ac2328/funcsigs-1.0.2-py2.py3-none-any.whl\n",
            "Requirement already satisfied: MarkupSafe>=0.9.2 in /usr/local/lib/python3.6/dist-packages (from mako>=0.8.0->reikna) (1.1.1)\n",
            "Building wheels for collected packages: reikna\n",
            "  Building wheel for reikna (setup.py) ... \u001b[?25l\u001b[?25hdone\n",
            "  Created wheel for reikna: filename=reikna-0.7.5-cp36-none-any.whl size=122267 sha256=ad74131b9ca76902f08174e256637f5c1be2a6f3549d292b4d51b832dffba780\n",
            "  Stored in directory: /root/.cache/pip/wheels/82/2d/ba/12c9ba3637183463c471bcf352f5bc1703ab7dfbec9842f04a\n",
            "Successfully built reikna\n",
            "Installing collected packages: mako, funcsigs, reikna\n",
            "Successfully installed funcsigs-1.0.2 mako-1.1.3 reikna-0.7.5\n"
          ],
          "name": "stdout"
        }
      ]
    },
    {
      "cell_type": "code",
      "metadata": {
        "colab": {
          "base_uri": "https://localhost:8080/"
        },
        "id": "Qj-CRvYg5b6w",
        "outputId": "1172233d-3a77-47df-8d9e-8f50df478602"
      },
      "source": [
        "\n",
        "!pip install pycuda"
      ],
      "execution_count": 6,
      "outputs": [
        {
          "output_type": "stream",
          "text": [
            "Collecting pycuda\n",
            "\u001b[?25l  Downloading https://files.pythonhosted.org/packages/46/61/47d3235a4c13eec5a5f03594ddb268f4858734e02980afbcd806e6242fa5/pycuda-2020.1.tar.gz (1.6MB)\n",
            "\u001b[K     |████████████████████████████████| 1.6MB 13.2MB/s \n",
            "\u001b[?25hCollecting pytools>=2011.2\n",
            "\u001b[?25l  Downloading https://files.pythonhosted.org/packages/46/8a/149fa553998155f0a90d92cdbbc60f6c998cc9ad5fe0441b2b82628d001a/pytools-2021.1.tar.gz (62kB)\n",
            "\u001b[K     |████████████████████████████████| 71kB 11.5MB/s \n",
            "\u001b[?25hRequirement already satisfied: decorator>=3.2.0 in /usr/local/lib/python3.6/dist-packages (from pycuda) (4.4.2)\n",
            "Collecting appdirs>=1.4.0\n",
            "  Downloading https://files.pythonhosted.org/packages/3b/00/2344469e2084fb287c2e0b57b72910309874c3245463acd6cf5e3db69324/appdirs-1.4.4-py2.py3-none-any.whl\n",
            "Requirement already satisfied: mako in /usr/local/lib/python3.6/dist-packages (from pycuda) (1.1.3)\n",
            "Requirement already satisfied: numpy>=1.6.0 in /usr/local/lib/python3.6/dist-packages (from pytools>=2011.2->pycuda) (1.19.5)\n",
            "Requirement already satisfied: dataclasses>=0.7 in /usr/local/lib/python3.6/dist-packages (from pytools>=2011.2->pycuda) (0.8)\n",
            "Requirement already satisfied: MarkupSafe>=0.9.2 in /usr/local/lib/python3.6/dist-packages (from mako->pycuda) (1.1.1)\n",
            "Building wheels for collected packages: pycuda, pytools\n",
            "  Building wheel for pycuda (setup.py) ... \u001b[?25l\u001b[?25hdone\n",
            "  Created wheel for pycuda: filename=pycuda-2020.1-cp36-cp36m-linux_x86_64.whl size=621033 sha256=0d5ba9d8d9b64c92cb6960d69a7955a64639040686290ba839c58871fd578ac7\n",
            "  Stored in directory: /root/.cache/pip/wheels/8f/78/d1/5bb826f81d9d490297a348d818ff3ee6dd6f2075b06dde6ea0\n",
            "  Building wheel for pytools (setup.py) ... \u001b[?25l\u001b[?25hdone\n",
            "  Created wheel for pytools: filename=pytools-2021.1-py2.py3-none-any.whl size=60415 sha256=491879a745bfd6d871afbaca64fd66286ee514d4ba92efb28739ee3e1ae5e5bf\n",
            "  Stored in directory: /root/.cache/pip/wheels/5d/85/10/7da05d77b47f2cb503e5c4185ba82187d0b6b6736b3c6641e0\n",
            "Successfully built pycuda pytools\n",
            "Installing collected packages: appdirs, pytools, pycuda\n",
            "Successfully installed appdirs-1.4.4 pycuda-2020.1 pytools-2021.1\n"
          ],
          "name": "stdout"
        }
      ]
    },
    {
      "cell_type": "code",
      "metadata": {
        "colab": {
          "base_uri": "https://localhost:8080/"
        },
        "id": "zX_OOCkGNtYM",
        "outputId": "74e08658-ece0-42d6-d814-11ad2699bcbc"
      },
      "source": [
        "!pip install pyopencl"
      ],
      "execution_count": 7,
      "outputs": [
        {
          "output_type": "stream",
          "text": [
            "Collecting pyopencl\n",
            "\u001b[?25l  Downloading https://files.pythonhosted.org/packages/7a/12/7d4171ecfaf61bafdc4a628263d086b8e75ff89f4ada5458ff1fd16d953c/pyopencl-2020.3.1-cp36-cp36m-manylinux1_x86_64.whl (738kB)\n",
            "\r\u001b[K     |▍                               | 10kB 23.0MB/s eta 0:00:01\r\u001b[K     |▉                               | 20kB 29.3MB/s eta 0:00:01\r\u001b[K     |█▎                              | 30kB 27.4MB/s eta 0:00:01\r\u001b[K     |█▊                              | 40kB 20.0MB/s eta 0:00:01\r\u001b[K     |██▏                             | 51kB 15.1MB/s eta 0:00:01\r\u001b[K     |██▋                             | 61kB 14.4MB/s eta 0:00:01\r\u001b[K     |███                             | 71kB 14.6MB/s eta 0:00:01\r\u001b[K     |███▌                            | 81kB 14.2MB/s eta 0:00:01\r\u001b[K     |████                            | 92kB 13.9MB/s eta 0:00:01\r\u001b[K     |████▍                           | 102kB 12.6MB/s eta 0:00:01\r\u001b[K     |████▉                           | 112kB 12.6MB/s eta 0:00:01\r\u001b[K     |█████▎                          | 122kB 12.6MB/s eta 0:00:01\r\u001b[K     |█████▊                          | 133kB 12.6MB/s eta 0:00:01\r\u001b[K     |██████▏                         | 143kB 12.6MB/s eta 0:00:01\r\u001b[K     |██████▋                         | 153kB 12.6MB/s eta 0:00:01\r\u001b[K     |███████                         | 163kB 12.6MB/s eta 0:00:01\r\u001b[K     |███████▌                        | 174kB 12.6MB/s eta 0:00:01\r\u001b[K     |████████                        | 184kB 12.6MB/s eta 0:00:01\r\u001b[K     |████████▍                       | 194kB 12.6MB/s eta 0:00:01\r\u001b[K     |████████▉                       | 204kB 12.6MB/s eta 0:00:01\r\u001b[K     |█████████▎                      | 215kB 12.6MB/s eta 0:00:01\r\u001b[K     |█████████▊                      | 225kB 12.6MB/s eta 0:00:01\r\u001b[K     |██████████▏                     | 235kB 12.6MB/s eta 0:00:01\r\u001b[K     |██████████▋                     | 245kB 12.6MB/s eta 0:00:01\r\u001b[K     |███████████                     | 256kB 12.6MB/s eta 0:00:01\r\u001b[K     |███████████▌                    | 266kB 12.6MB/s eta 0:00:01\r\u001b[K     |████████████                    | 276kB 12.6MB/s eta 0:00:01\r\u001b[K     |████████████▍                   | 286kB 12.6MB/s eta 0:00:01\r\u001b[K     |████████████▉                   | 296kB 12.6MB/s eta 0:00:01\r\u001b[K     |█████████████▎                  | 307kB 12.6MB/s eta 0:00:01\r\u001b[K     |█████████████▊                  | 317kB 12.6MB/s eta 0:00:01\r\u001b[K     |██████████████▏                 | 327kB 12.6MB/s eta 0:00:01\r\u001b[K     |██████████████▋                 | 337kB 12.6MB/s eta 0:00:01\r\u001b[K     |███████████████                 | 348kB 12.6MB/s eta 0:00:01\r\u001b[K     |███████████████▌                | 358kB 12.6MB/s eta 0:00:01\r\u001b[K     |████████████████                | 368kB 12.6MB/s eta 0:00:01\r\u001b[K     |████████████████▍               | 378kB 12.6MB/s eta 0:00:01\r\u001b[K     |████████████████▉               | 389kB 12.6MB/s eta 0:00:01\r\u001b[K     |█████████████████▎              | 399kB 12.6MB/s eta 0:00:01\r\u001b[K     |█████████████████▊              | 409kB 12.6MB/s eta 0:00:01\r\u001b[K     |██████████████████▏             | 419kB 12.6MB/s eta 0:00:01\r\u001b[K     |██████████████████▋             | 430kB 12.6MB/s eta 0:00:01\r\u001b[K     |███████████████████             | 440kB 12.6MB/s eta 0:00:01\r\u001b[K     |███████████████████▌            | 450kB 12.6MB/s eta 0:00:01\r\u001b[K     |████████████████████            | 460kB 12.6MB/s eta 0:00:01\r\u001b[K     |████████████████████▍           | 471kB 12.6MB/s eta 0:00:01\r\u001b[K     |████████████████████▉           | 481kB 12.6MB/s eta 0:00:01\r\u001b[K     |█████████████████████▎          | 491kB 12.6MB/s eta 0:00:01\r\u001b[K     |█████████████████████▊          | 501kB 12.6MB/s eta 0:00:01\r\u001b[K     |██████████████████████▏         | 512kB 12.6MB/s eta 0:00:01\r\u001b[K     |██████████████████████▋         | 522kB 12.6MB/s eta 0:00:01\r\u001b[K     |███████████████████████         | 532kB 12.6MB/s eta 0:00:01\r\u001b[K     |███████████████████████▌        | 542kB 12.6MB/s eta 0:00:01\r\u001b[K     |████████████████████████        | 552kB 12.6MB/s eta 0:00:01\r\u001b[K     |████████████████████████▍       | 563kB 12.6MB/s eta 0:00:01\r\u001b[K     |████████████████████████▉       | 573kB 12.6MB/s eta 0:00:01\r\u001b[K     |█████████████████████████▎      | 583kB 12.6MB/s eta 0:00:01\r\u001b[K     |█████████████████████████▊      | 593kB 12.6MB/s eta 0:00:01\r\u001b[K     |██████████████████████████▏     | 604kB 12.6MB/s eta 0:00:01\r\u001b[K     |██████████████████████████▋     | 614kB 12.6MB/s eta 0:00:01\r\u001b[K     |███████████████████████████     | 624kB 12.6MB/s eta 0:00:01\r\u001b[K     |███████████████████████████▌    | 634kB 12.6MB/s eta 0:00:01\r\u001b[K     |████████████████████████████    | 645kB 12.6MB/s eta 0:00:01\r\u001b[K     |████████████████████████████▍   | 655kB 12.6MB/s eta 0:00:01\r\u001b[K     |████████████████████████████▉   | 665kB 12.6MB/s eta 0:00:01\r\u001b[K     |█████████████████████████████▎  | 675kB 12.6MB/s eta 0:00:01\r\u001b[K     |█████████████████████████████▊  | 686kB 12.6MB/s eta 0:00:01\r\u001b[K     |██████████████████████████████▏ | 696kB 12.6MB/s eta 0:00:01\r\u001b[K     |██████████████████████████████▋ | 706kB 12.6MB/s eta 0:00:01\r\u001b[K     |███████████████████████████████ | 716kB 12.6MB/s eta 0:00:01\r\u001b[K     |███████████████████████████████▌| 727kB 12.6MB/s eta 0:00:01\r\u001b[K     |████████████████████████████████| 737kB 12.6MB/s eta 0:00:01\r\u001b[K     |████████████████████████████████| 747kB 12.6MB/s \n",
            "\u001b[?25hRequirement already satisfied: decorator>=3.2.0 in /usr/local/lib/python3.6/dist-packages (from pyopencl) (4.4.2)\n",
            "Requirement already satisfied: appdirs>=1.4.0 in /usr/local/lib/python3.6/dist-packages (from pyopencl) (1.4.4)\n",
            "Requirement already satisfied: pytools>=2017.6 in /usr/local/lib/python3.6/dist-packages (from pyopencl) (2021.1)\n",
            "Requirement already satisfied: numpy in /usr/local/lib/python3.6/dist-packages (from pyopencl) (1.19.5)\n",
            "Requirement already satisfied: dataclasses>=0.7; python_version <= \"3.6\" in /usr/local/lib/python3.6/dist-packages (from pytools>=2017.6->pyopencl) (0.8)\n",
            "Installing collected packages: pyopencl\n",
            "Successfully installed pyopencl-2020.3.1\n"
          ],
          "name": "stdout"
        }
      ]
    },
    {
      "cell_type": "code",
      "metadata": {
        "colab": {
          "base_uri": "https://localhost:8080/"
        },
        "id": "O4dYY3GsnxcZ",
        "outputId": "534c1e07-460c-4d2c-ac56-a07424083568"
      },
      "source": [
        "!pip install scipy"
      ],
      "execution_count": 8,
      "outputs": [
        {
          "output_type": "stream",
          "text": [
            "Requirement already satisfied: scipy in /usr/local/lib/python3.6/dist-packages (1.4.1)\n",
            "Requirement already satisfied: numpy>=1.13.3 in /usr/local/lib/python3.6/dist-packages (from scipy) (1.19.5)\n"
          ],
          "name": "stdout"
        }
      ]
    },
    {
      "cell_type": "code",
      "metadata": {
        "colab": {
          "base_uri": "https://localhost:8080/"
        },
        "id": "Cp_dUlXzQXOT",
        "outputId": "61f3ea2a-82c3-4bd7-d2d7-81ce0fe11c8b"
      },
      "source": [
        "import tensorflow as tf\n",
        "print(\"Num GPUs Available: \", len(tf.config.experimental.list_physical_devices('GPU')))"
      ],
      "execution_count": 9,
      "outputs": [
        {
          "output_type": "stream",
          "text": [
            "Num GPUs Available:  1\n"
          ],
          "name": "stdout"
        }
      ]
    },
    {
      "cell_type": "code",
      "metadata": {
        "colab": {
          "base_uri": "https://localhost:8080/"
        },
        "id": "FgrYjSlYL3-V",
        "outputId": "de4887bb-c689-4560-97c6-89f00d6b0454"
      },
      "source": [
        "!pip install queuelib"
      ],
      "execution_count": 10,
      "outputs": [
        {
          "output_type": "stream",
          "text": [
            "Collecting queuelib\n",
            "  Downloading https://files.pythonhosted.org/packages/4c/85/ae64e9145f39dd6d14f8af3fa809a270ef3729f3b90b3c0cf5aa242ab0d4/queuelib-1.5.0-py2.py3-none-any.whl\n",
            "Installing collected packages: queuelib\n",
            "Successfully installed queuelib-1.5.0\n"
          ],
          "name": "stdout"
        }
      ]
    },
    {
      "cell_type": "code",
      "metadata": {
        "id": "8pQVjmk87pMH"
      },
      "source": [
        "import time\n",
        "from pynufft import NUFFT, helper\n",
        "import pynufft\n",
        "import numpy\n",
        "import matplotlib as mpl\n",
        "import matplotlib.pyplot as plt\n",
        "import argparse as args\n",
        "import pycuda\n",
        "import pycuda.autoinit\n",
        "dtype = numpy.complex64\n",
        "import pkg_resources\n",
        "import scipy\n",
        "import scipy.misc"
      ],
      "execution_count": 11,
      "outputs": []
    },
    {
      "cell_type": "code",
      "metadata": {
        "id": "pYMC2zt6_yFG"
      },
      "source": [
        "def image_dimension_speed_test(A, dim_1, dim_2, plot_name, color_label):\n",
        "    dim_speed = []\n",
        "    om = numpy.random.randn(10, 2)\n",
        "    for i in range(len(dim_1)):\n",
        "        for j in range(len(dim_2)):\n",
        "            for l in range(101):\n",
        "                Nd = dim_1[i]\n",
        "                Kd = dim_2[j]\n",
        "                Jd = (4, 4)\n",
        "                A.plan(om, Nd, Kd, Jd)\n",
        "                x = numpy.random.randn(*Nd)\n",
        "                gx = A.to_device(x)\n",
        "                startTime = time.time()\n",
        "                gy = A._forward_device(gx)\n",
        "                executionTime = (time.time() - startTime)\n",
        "                if l!=0:\n",
        "                  dim_speed.append(executionTime)\n",
        "            std_dev_dim = numpy.std(dim_speed)\n",
        "            average_speed = sum(dim_speed) / len(dim_speed)\n",
        "            if i == (len(dim_1) - 1):\n",
        "                plot_name.errorbar(Nd[0], average_speed, yerr=std_dev_dim, color=f'{color_label[j]}', fmt='-o',\n",
        "                                   label=f'k_dim = {Kd[0]}, Jd = {Jd[0]}')\n",
        "            else:\n",
        "                plot_name.errorbar(Nd[0], average_speed, yerr=std_dev_dim, color=f'{color_label[j]}', fmt='-o')\n",
        "            print(f'execution time is {average_speed} seconds when Nd = {Nd} and Kd = {Kd} and Jd = {Jd}')\n",
        "            dim_speed.clear()\n",
        "    return plot_name\n",
        "\n",
        "\n",
        "def kd_speed_test(A, dim_1, dim_2, plot_name, color_label):\n",
        "    dim_speed = []\n",
        "    om = numpy.random.randn(10, 2)\n",
        "    for i in range(len(dim_1)):\n",
        "        for j in range(len(dim_2)):\n",
        "            for l in range(101):\n",
        "                Kd = dim_1[i]\n",
        "                Nd = dim_2[j]\n",
        "                Jd = (4, 4)\n",
        "                A.plan(om, Nd, Kd, Jd)\n",
        "                x = numpy.random.randn(*Nd)\n",
        "                gx = A.to_device(x)\n",
        "                startTime = time.time()\n",
        "                gy = A._forward_device(gx)\n",
        "                executionTime = (time.time() - startTime)\n",
        "                if l!=0:\n",
        "                  dim_speed.append(executionTime)\n",
        "            std_dev_dim = numpy.std(dim_speed)\n",
        "            average_speed = sum(dim_speed) / len(dim_speed)\n",
        "            if i == (len(dim_1) - 1):\n",
        "                plot_name.errorbar(Kd[0], average_speed, yerr=std_dev_dim, color=f'{color_label[j]}', fmt='-o',\n",
        "                                   label=f'N_dim = {Nd[0]}, Jd = {Jd[0]}')\n",
        "            else:\n",
        "                plot_name.errorbar(Kd[0], average_speed, yerr=std_dev_dim, color=f'{color_label[j]}', fmt='-o')\n",
        "            print(f'execution time is {average_speed} seconds when Kd = {dim_1[i]} and Nd = {dim_2[j]} and '\n",
        "                  f'Jd = {Jd}')\n",
        "            dim_speed.clear()\n",
        "    return plot_name\n",
        "\n",
        "\n",
        "def jd_speed_test(A, dim_1, dim_2, plot_name, color_label):\n",
        "    dim_speed = []\n",
        "    om = numpy.random.randn(10, 2)\n",
        "    for i in range(len(dim_1)):\n",
        "        for j in range(len(dim_2)):\n",
        "            for l in range(101):\n",
        "                Jd = dim_1[i]\n",
        "                Nd = (128, 128)\n",
        "                Kd = dim_2[j]\n",
        "                A.plan(om, Nd, Kd, Jd)\n",
        "                x = numpy.random.randn(*Nd)\n",
        "                gx = A.to_device(x)\n",
        "                startTime = time.time()\n",
        "                gy = A._forward_device(gx)\n",
        "                executionTime = (time.time() - startTime)\n",
        "                if l!=0:\n",
        "                  dim_speed.append(executionTime)\n",
        "            std_dev_dim = numpy.std(dim_speed)\n",
        "            average_speed = sum(dim_speed) / len(dim_speed)\n",
        "            if i == (len(dim_1) - 1):\n",
        "                plot_name.errorbar(Jd[0], average_speed, yerr=std_dev_dim, color=f'{color_label[j]}', fmt='-o',\n",
        "                                       label=f'N_dim = {Nd[0]}, Kd = {Kd[0]}')\n",
        "            else:\n",
        "                plot_name.errorbar(Jd[0], average_speed, yerr=std_dev_dim, color=f'{color_label[j]}', fmt='-o')\n",
        "            print(f'execution time is {average_speed} seconds when Jd = {dim_1[i]} and Nd = {Nd} and '\n",
        "                  f'Kd = {dim_2[j]}')\n",
        "            dim_speed.clear()\n",
        "    return plot_name\n"
      ],
      "execution_count": 12,
      "outputs": []
    },
    {
      "cell_type": "code",
      "metadata": {
        "id": "do7u_n1jBK6k"
      },
      "source": [
        "img_dimensions = [(64, 64), (128, 128), (256, 256), (512, 512)]\n",
        "#750\n",
        "color = ['red', 'green', 'yellow', 'blue', 'orange']\n",
        "k_d = [(128, 128), (256, 256), (512, 512), (1024, 1024), (2048, 2048)]\n",
        "#1024 1500\n",
        "j_d = [(2, 2), (3, 3), (4, 4), (5, 5), (6, 6)]"
      ],
      "execution_count": 13,
      "outputs": []
    },
    {
      "cell_type": "code",
      "metadata": {
        "id": "0ddZRvhOfoWg",
        "colab": {
          "base_uri": "https://localhost:8080/",
          "height": 52
        },
        "outputId": "2f7272f8-d7c2-4f9b-fad8-c502b344ac45"
      },
      "source": [
        "'''img_dimensions = [(64, 64)] #, (128, 128),(256, 256), (512, 512)]\n",
        "#750\n",
        "color = ['red'] #, 'green', 'yellow', 'blue']#, 'orange']\n",
        "k_d = [(2048, 2048)] #, (256, 256)], (512, 512), (1024, 1024), (2048, 2048)]\n",
        "#1024 1500\n",
        "j_d = [(4, 4)] #, (3, 3)]#, (4, 4), (5, 5), (6, 6)]'''"
      ],
      "execution_count": 14,
      "outputs": [
        {
          "output_type": "execute_result",
          "data": {
            "application/vnd.google.colaboratory.intrinsic+json": {
              "type": "string"
            },
            "text/plain": [
              "\"img_dimensions = [(64, 64)] #, (128, 128),(256, 256), (512, 512)]\\n#750\\ncolor = ['red'] #, 'green', 'yellow', 'blue']#, 'orange']\\nk_d = [(2048, 2048)] #, (256, 256)], (512, 512), (1024, 1024), (2048, 2048)]\\n#1024 1500\\nj_d = [(4, 4)] #, (3, 3)]#, (4, 4), (5, 5), (6, 6)]\""
            ]
          },
          "metadata": {
            "tags": []
          },
          "execution_count": 14
        }
      ]
    },
    {
      "cell_type": "code",
      "metadata": {
        "colab": {
          "base_uri": "https://localhost:8080/",
          "height": 86
        },
        "id": "M-4W7vnVSYMF",
        "outputId": "22e8a357-fc84-438e-f91d-c4972ed9892c"
      },
      "source": [
        "'''dim_speed = []\n",
        "om = numpy.random.randn(10, 2)\n",
        "A = NUFFT(helper.device_list()[0])\n",
        "Nd = (64, 64)\n",
        "Kd = (128, 128)\n",
        "Jd = (4, 4)\n",
        "A.plan(om, Nd, Kd, Jd)\n",
        "x = numpy.random.randn(*Nd)\n",
        "gx = A.to_device(x)\n",
        "for l in range(101):\n",
        "    startTime = time.time()\n",
        "    gy = A._forward_device(gx)\n",
        "    executionTime = (time.time() - startTime)\n",
        "    #print(executionTime)\n",
        "    if l!=0:\n",
        "      dim_speed.append(executionTime)\n",
        "\n",
        "fig1,(ax4)=plt.subplots(1, 1,figsize=(15,10))\n",
        "ax4.hist(dim_speed)'''"
      ],
      "execution_count": 15,
      "outputs": [
        {
          "output_type": "execute_result",
          "data": {
            "application/vnd.google.colaboratory.intrinsic+json": {
              "type": "string"
            },
            "text/plain": [
              "'dim_speed = []\\nom = numpy.random.randn(10, 2)\\nA = NUFFT(helper.device_list()[0])\\nNd = (64, 64)\\nKd = (128, 128)\\nJd = (4, 4)\\nA.plan(om, Nd, Kd, Jd)\\nx = numpy.random.randn(*Nd)\\ngx = A.to_device(x)\\nfor l in range(101):\\n    startTime = time.time()\\n    gy = A._forward_device(gx)\\n    executionTime = (time.time() - startTime)\\n    #print(executionTime)\\n    if l!=0:\\n      dim_speed.append(executionTime)\\n\\nfig1,(ax4)=plt.subplots(1, 1,figsize=(15,10))\\nax4.hist(dim_speed)'"
            ]
          },
          "metadata": {
            "tags": []
          },
          "execution_count": 15
        }
      ]
    },
    {
      "cell_type": "code",
      "metadata": {
        "id": "V-Ax9puxBryg",
        "colab": {
          "base_uri": "https://localhost:8080/",
          "height": 1000
        },
        "outputId": "6c0bdbde-12be-4393-ed0c-c40f432fbdb8"
      },
      "source": [
        "fig, (ax1, ax2, ax3) = plt.subplots(1, 3,figsize=(15,10))\n",
        "nufft_obj = NUFFT(helper.device_list()[0])\n",
        "ax1 = image_dimension_speed_test(nufft_obj, img_dimensions, k_d, ax1, color)\n",
        "ax1.legend(loc=\"upper left\")\n",
        "ax1.set_title('Speed with respect to I_dim')\n",
        "ax1.set_xlabel('Image dimension')\n",
        "ax1.set_ylabel('Time')\n",
        "\n",
        "ax2 = kd_speed_test(nufft_obj, k_d, img_dimensions, ax2, color)\n",
        "ax2.legend(loc=\"upper right\")\n",
        "ax2.set_title('Speed with respect to kd')\n",
        "ax2.set_xlabel('kd')\n",
        "ax2.set_ylabel('Time')\n",
        "\n",
        "ax3 = jd_speed_test(nufft_obj, j_d, k_d, ax3, color)\n",
        "ax3.legend(loc=\"upper right\")\n",
        "ax3.set_title('Speed with respect to jd')\n",
        "ax3.set_xlabel('jd')\n",
        "ax3.set_ylabel('Time')\n",
        "plt.savefig('/content/pynufft/tests/test.png')\n",
        "plt.legend()\n",
        "plt.show()\n"
      ],
      "execution_count": 16,
      "outputs": [
        {
          "output_type": "stream",
          "text": [
            "execution time is 0.0009498095512390137 seconds when Nd = (64, 64) and Kd = (128, 128) and Jd = (4, 4)\n",
            "execution time is 0.0009613776206970215 seconds when Nd = (64, 64) and Kd = (256, 256) and Jd = (4, 4)\n",
            "execution time is 0.001367981433868408 seconds when Nd = (64, 64) and Kd = (512, 512) and Jd = (4, 4)\n",
            "execution time is 0.0015215110778808594 seconds when Nd = (64, 64) and Kd = (1024, 1024) and Jd = (4, 4)\n",
            "execution time is 0.001993858814239502 seconds when Nd = (64, 64) and Kd = (2048, 2048) and Jd = (4, 4)\n",
            "execution time is 0.0009851956367492676 seconds when Nd = (128, 128) and Kd = (128, 128) and Jd = (4, 4)\n",
            "execution time is 0.0009885835647583008 seconds when Nd = (128, 128) and Kd = (256, 256) and Jd = (4, 4)\n",
            "execution time is 0.0013835930824279785 seconds when Nd = (128, 128) and Kd = (512, 512) and Jd = (4, 4)\n",
            "execution time is 0.0015334177017211914 seconds when Nd = (128, 128) and Kd = (1024, 1024) and Jd = (4, 4)\n",
            "execution time is 0.002002272605895996 seconds when Nd = (128, 128) and Kd = (2048, 2048) and Jd = (4, 4)\n",
            "execution time is 0.0010100245475769044 seconds when Nd = (256, 256) and Kd = (128, 128) and Jd = (4, 4)\n",
            "execution time is 0.0013815999031066895 seconds when Nd = (256, 256) and Kd = (256, 256) and Jd = (4, 4)\n",
            "execution time is 0.0013972735404968262 seconds when Nd = (256, 256) and Kd = (512, 512) and Jd = (4, 4)\n",
            "execution time is 0.0015475749969482422 seconds when Nd = (256, 256) and Kd = (1024, 1024) and Jd = (4, 4)\n",
            "execution time is 0.0020000219345092775 seconds when Nd = (256, 256) and Kd = (2048, 2048) and Jd = (4, 4)\n",
            "execution time is 0.0013444876670837401 seconds when Nd = (512, 512) and Kd = (128, 128) and Jd = (4, 4)\n",
            "execution time is 0.0013944649696350099 seconds when Nd = (512, 512) and Kd = (256, 256) and Jd = (4, 4)\n",
            "execution time is 0.0015836930274963378 seconds when Nd = (512, 512) and Kd = (512, 512) and Jd = (4, 4)\n",
            "execution time is 0.0017185020446777344 seconds when Nd = (512, 512) and Kd = (1024, 1024) and Jd = (4, 4)\n",
            "execution time is 0.002197070121765137 seconds when Nd = (512, 512) and Kd = (2048, 2048) and Jd = (4, 4)\n",
            "execution time is 0.0009500861167907714 seconds when Kd = (128, 128) and Nd = (64, 64) and Jd = (4, 4)\n",
            "execution time is 0.0009675741195678711 seconds when Kd = (128, 128) and Nd = (128, 128) and Jd = (4, 4)\n",
            "execution time is 0.0010229873657226563 seconds when Kd = (128, 128) and Nd = (256, 256) and Jd = (4, 4)\n",
            "execution time is 0.0013421869277954101 seconds when Kd = (128, 128) and Nd = (512, 512) and Jd = (4, 4)\n",
            "execution time is 0.0009706377983093262 seconds when Kd = (256, 256) and Nd = (64, 64) and Jd = (4, 4)\n",
            "execution time is 0.000980374813079834 seconds when Kd = (256, 256) and Nd = (128, 128) and Jd = (4, 4)\n",
            "execution time is 0.001385345458984375 seconds when Kd = (256, 256) and Nd = (256, 256) and Jd = (4, 4)\n",
            "execution time is 0.0013734698295593262 seconds when Kd = (256, 256) and Nd = (512, 512) and Jd = (4, 4)\n",
            "execution time is 0.001375560760498047 seconds when Kd = (512, 512) and Nd = (64, 64) and Jd = (4, 4)\n",
            "execution time is 0.001360456943511963 seconds when Kd = (512, 512) and Nd = (128, 128) and Jd = (4, 4)\n",
            "execution time is 0.0013844966888427734 seconds when Kd = (512, 512) and Nd = (256, 256) and Jd = (4, 4)\n",
            "execution time is 0.0016127300262451171 seconds when Kd = (512, 512) and Nd = (512, 512) and Jd = (4, 4)\n",
            "execution time is 0.0015055251121520996 seconds when Kd = (1024, 1024) and Nd = (64, 64) and Jd = (4, 4)\n",
            "execution time is 0.0015187978744506836 seconds when Kd = (1024, 1024) and Nd = (128, 128) and Jd = (4, 4)\n",
            "execution time is 0.0015578246116638183 seconds when Kd = (1024, 1024) and Nd = (256, 256) and Jd = (4, 4)\n",
            "execution time is 0.0017240405082702636 seconds when Kd = (1024, 1024) and Nd = (512, 512) and Jd = (4, 4)\n",
            "execution time is 0.0019771313667297364 seconds when Kd = (2048, 2048) and Nd = (64, 64) and Jd = (4, 4)\n",
            "execution time is 0.001986649036407471 seconds when Kd = (2048, 2048) and Nd = (128, 128) and Jd = (4, 4)\n",
            "execution time is 0.0020249414443969725 seconds when Kd = (2048, 2048) and Nd = (256, 256) and Jd = (4, 4)\n",
            "execution time is 0.0021556615829467773 seconds when Kd = (2048, 2048) and Nd = (512, 512) and Jd = (4, 4)\n",
            "execution time is 0.0009796738624572754 seconds when Jd = (2, 2) and Nd = (128, 128) and Kd = (128, 128)\n",
            "execution time is 0.0009803056716918945 seconds when Jd = (2, 2) and Nd = (128, 128) and Kd = (256, 256)\n",
            "execution time is 0.001392972469329834 seconds when Jd = (2, 2) and Nd = (128, 128) and Kd = (512, 512)\n",
            "execution time is 0.0015647029876708985 seconds when Jd = (2, 2) and Nd = (128, 128) and Kd = (1024, 1024)\n",
            "execution time is 0.0019742774963378905 seconds when Jd = (2, 2) and Nd = (128, 128) and Kd = (2048, 2048)\n",
            "execution time is 0.0009425902366638184 seconds when Jd = (3, 3) and Nd = (128, 128) and Kd = (128, 128)\n",
            "execution time is 0.0010379695892333985 seconds when Jd = (3, 3) and Nd = (128, 128) and Kd = (256, 256)\n",
            "execution time is 0.0013754558563232422 seconds when Jd = (3, 3) and Nd = (128, 128) and Kd = (512, 512)\n",
            "execution time is 0.0015201187133789063 seconds when Jd = (3, 3) and Nd = (128, 128) and Kd = (1024, 1024)\n",
            "execution time is 0.002007617950439453 seconds when Jd = (3, 3) and Nd = (128, 128) and Kd = (2048, 2048)\n",
            "execution time is 0.0009746050834655762 seconds when Jd = (4, 4) and Nd = (128, 128) and Kd = (128, 128)\n",
            "execution time is 0.0009765744209289551 seconds when Jd = (4, 4) and Nd = (128, 128) and Kd = (256, 256)\n",
            "execution time is 0.0013369154930114747 seconds when Jd = (4, 4) and Nd = (128, 128) and Kd = (512, 512)\n",
            "execution time is 0.0014941954612731933 seconds when Jd = (4, 4) and Nd = (128, 128) and Kd = (1024, 1024)\n",
            "execution time is 0.0019342374801635742 seconds when Jd = (4, 4) and Nd = (128, 128) and Kd = (2048, 2048)\n",
            "execution time is 0.0009484434127807617 seconds when Jd = (5, 5) and Nd = (128, 128) and Kd = (128, 128)\n",
            "execution time is 0.0009779691696166991 seconds when Jd = (5, 5) and Nd = (128, 128) and Kd = (256, 256)\n",
            "execution time is 0.0013562440872192383 seconds when Jd = (5, 5) and Nd = (128, 128) and Kd = (512, 512)\n",
            "execution time is 0.0014961457252502441 seconds when Jd = (5, 5) and Nd = (128, 128) and Kd = (1024, 1024)\n",
            "execution time is 0.0019670534133911133 seconds when Jd = (5, 5) and Nd = (128, 128) and Kd = (2048, 2048)\n",
            "execution time is 0.00093963623046875 seconds when Jd = (6, 6) and Nd = (128, 128) and Kd = (128, 128)\n",
            "execution time is 0.0009826374053955077 seconds when Jd = (6, 6) and Nd = (128, 128) and Kd = (256, 256)\n",
            "execution time is 0.0013552021980285645 seconds when Jd = (6, 6) and Nd = (128, 128) and Kd = (512, 512)\n",
            "execution time is 0.0014837813377380372 seconds when Jd = (6, 6) and Nd = (128, 128) and Kd = (1024, 1024)\n",
            "execution time is 0.001971268653869629 seconds when Jd = (6, 6) and Nd = (128, 128) and Kd = (2048, 2048)\n"
          ],
          "name": "stdout"
        },
        {
          "output_type": "display_data",
          "data": {
            "image/png": "[encoded data removed]",
            "text/plain": [
              "<Figure size 1080x720 with 3 Axes>"
            ]
          },
          "metadata": {
            "tags": [],
            "needs_background": "light"
          }
        }
      ]
    }
  ]
}